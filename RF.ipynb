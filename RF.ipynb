{
 "cells": [
  {
   "cell_type": "code",
   "execution_count": 1,
   "id": "0c5446b8-58b9-4897-9477-b0ee28f4c219",
   "metadata": {
    "tags": []
   },
   "outputs": [],
   "source": [
    "import pandas as pd\n",
    "import numpy as np\n",
    "from sklearn.model_selection import train_test_split\n"
   ]
  },
  {
   "cell_type": "code",
   "execution_count": 2,
   "id": "aeaa94ea-29e7-433d-a132-dc9afb795ee1",
   "metadata": {
    "tags": []
   },
   "outputs": [
    {
     "data": {
      "text/html": [
       "<div>\n",
       "<style scoped>\n",
       "    .dataframe tbody tr th:only-of-type {\n",
       "        vertical-align: middle;\n",
       "    }\n",
       "\n",
       "    .dataframe tbody tr th {\n",
       "        vertical-align: top;\n",
       "    }\n",
       "\n",
       "    .dataframe thead th {\n",
       "        text-align: right;\n",
       "    }\n",
       "</style>\n",
       "<table border=\"1\" class=\"dataframe\">\n",
       "  <thead>\n",
       "    <tr style=\"text-align: right;\">\n",
       "      <th></th>\n",
       "      <th>time</th>\n",
       "      <th>month</th>\n",
       "      <th>temperature</th>\n",
       "      <th>feelslike</th>\n",
       "      <th>wind</th>\n",
       "      <th>direction</th>\n",
       "      <th>gust</th>\n",
       "      <th>cloud</th>\n",
       "      <th>humidity</th>\n",
       "      <th>precipitation</th>\n",
       "      <th>pressure</th>\n",
       "      <th>weather</th>\n",
       "    </tr>\n",
       "  </thead>\n",
       "  <tbody>\n",
       "    <tr>\n",
       "      <th>0</th>\n",
       "      <td>0:00</td>\n",
       "      <td>1</td>\n",
       "      <td>24.0</td>\n",
       "      <td>28.0</td>\n",
       "      <td>8.0</td>\n",
       "      <td>ENE</td>\n",
       "      <td>12.0</td>\n",
       "      <td>4.0</td>\n",
       "      <td>86.0</td>\n",
       "      <td>0.0</td>\n",
       "      <td>1012.0</td>\n",
       "      <td>Clear</td>\n",
       "    </tr>\n",
       "    <tr>\n",
       "      <th>1</th>\n",
       "      <td>3:00</td>\n",
       "      <td>1</td>\n",
       "      <td>23.0</td>\n",
       "      <td>27.0</td>\n",
       "      <td>8.0</td>\n",
       "      <td>NE</td>\n",
       "      <td>10.0</td>\n",
       "      <td>4.0</td>\n",
       "      <td>88.0</td>\n",
       "      <td>0.0</td>\n",
       "      <td>1011.0</td>\n",
       "      <td>Clear</td>\n",
       "    </tr>\n",
       "    <tr>\n",
       "      <th>2</th>\n",
       "      <td>6:00</td>\n",
       "      <td>1</td>\n",
       "      <td>23.0</td>\n",
       "      <td>26.0</td>\n",
       "      <td>8.0</td>\n",
       "      <td>NNE</td>\n",
       "      <td>11.0</td>\n",
       "      <td>7.0</td>\n",
       "      <td>85.0</td>\n",
       "      <td>0.0</td>\n",
       "      <td>1012.0</td>\n",
       "      <td>Sunny</td>\n",
       "    </tr>\n",
       "    <tr>\n",
       "      <th>3</th>\n",
       "      <td>9:00</td>\n",
       "      <td>1</td>\n",
       "      <td>28.0</td>\n",
       "      <td>33.0</td>\n",
       "      <td>11.0</td>\n",
       "      <td>NNE</td>\n",
       "      <td>13.0</td>\n",
       "      <td>6.0</td>\n",
       "      <td>64.0</td>\n",
       "      <td>0.0</td>\n",
       "      <td>1012.0</td>\n",
       "      <td>Sunny</td>\n",
       "    </tr>\n",
       "    <tr>\n",
       "      <th>4</th>\n",
       "      <td>12:00</td>\n",
       "      <td>1</td>\n",
       "      <td>31.0</td>\n",
       "      <td>35.0</td>\n",
       "      <td>10.0</td>\n",
       "      <td>ENE</td>\n",
       "      <td>12.0</td>\n",
       "      <td>62.0</td>\n",
       "      <td>53.0</td>\n",
       "      <td>0.0</td>\n",
       "      <td>1010.0</td>\n",
       "      <td>Partly cloudy</td>\n",
       "    </tr>\n",
       "    <tr>\n",
       "      <th>...</th>\n",
       "      <td>...</td>\n",
       "      <td>...</td>\n",
       "      <td>...</td>\n",
       "      <td>...</td>\n",
       "      <td>...</td>\n",
       "      <td>...</td>\n",
       "      <td>...</td>\n",
       "      <td>...</td>\n",
       "      <td>...</td>\n",
       "      <td>...</td>\n",
       "      <td>...</td>\n",
       "      <td>...</td>\n",
       "    </tr>\n",
       "    <tr>\n",
       "      <th>8507</th>\n",
       "      <td>9:00</td>\n",
       "      <td>11</td>\n",
       "      <td>29.0</td>\n",
       "      <td>32.0</td>\n",
       "      <td>4.0</td>\n",
       "      <td>ENE</td>\n",
       "      <td>5.0</td>\n",
       "      <td>17.0</td>\n",
       "      <td>68.0</td>\n",
       "      <td>0.0</td>\n",
       "      <td>1012.0</td>\n",
       "      <td>Partly cloudy</td>\n",
       "    </tr>\n",
       "    <tr>\n",
       "      <th>8508</th>\n",
       "      <td>12:00</td>\n",
       "      <td>11</td>\n",
       "      <td>33.0</td>\n",
       "      <td>37.0</td>\n",
       "      <td>5.0</td>\n",
       "      <td>ENE</td>\n",
       "      <td>5.0</td>\n",
       "      <td>15.0</td>\n",
       "      <td>52.0</td>\n",
       "      <td>0.0</td>\n",
       "      <td>1011.0</td>\n",
       "      <td>Partly cloudy</td>\n",
       "    </tr>\n",
       "    <tr>\n",
       "      <th>8509</th>\n",
       "      <td>15:00</td>\n",
       "      <td>11</td>\n",
       "      <td>34.0</td>\n",
       "      <td>38.0</td>\n",
       "      <td>3.0</td>\n",
       "      <td>ENE</td>\n",
       "      <td>4.0</td>\n",
       "      <td>19.0</td>\n",
       "      <td>50.0</td>\n",
       "      <td>0.0</td>\n",
       "      <td>1009.0</td>\n",
       "      <td>Partly cloudy</td>\n",
       "    </tr>\n",
       "    <tr>\n",
       "      <th>8510</th>\n",
       "      <td>18:00</td>\n",
       "      <td>11</td>\n",
       "      <td>31.0</td>\n",
       "      <td>34.0</td>\n",
       "      <td>6.0</td>\n",
       "      <td>SE</td>\n",
       "      <td>8.0</td>\n",
       "      <td>19.0</td>\n",
       "      <td>65.0</td>\n",
       "      <td>0.0</td>\n",
       "      <td>1009.0</td>\n",
       "      <td>Partly cloudy</td>\n",
       "    </tr>\n",
       "    <tr>\n",
       "      <th>8511</th>\n",
       "      <td>21:00</td>\n",
       "      <td>11</td>\n",
       "      <td>27.0</td>\n",
       "      <td>30.0</td>\n",
       "      <td>7.0</td>\n",
       "      <td>SE</td>\n",
       "      <td>10.0</td>\n",
       "      <td>33.0</td>\n",
       "      <td>75.0</td>\n",
       "      <td>0.0</td>\n",
       "      <td>1011.0</td>\n",
       "      <td>Partly cloudy</td>\n",
       "    </tr>\n",
       "  </tbody>\n",
       "</table>\n",
       "<p>8512 rows × 12 columns</p>\n",
       "</div>"
      ],
      "text/plain": [
       "       time  month  temperature  feelslike  wind direction  gust  cloud  \\\n",
       "0      0:00      1         24.0       28.0   8.0       ENE  12.0    4.0   \n",
       "1      3:00      1         23.0       27.0   8.0        NE  10.0    4.0   \n",
       "2      6:00      1         23.0       26.0   8.0       NNE  11.0    7.0   \n",
       "3      9:00      1         28.0       33.0  11.0       NNE  13.0    6.0   \n",
       "4     12:00      1         31.0       35.0  10.0       ENE  12.0   62.0   \n",
       "...     ...    ...          ...        ...   ...       ...   ...    ...   \n",
       "8507   9:00     11         29.0       32.0   4.0       ENE   5.0   17.0   \n",
       "8508  12:00     11         33.0       37.0   5.0       ENE   5.0   15.0   \n",
       "8509  15:00     11         34.0       38.0   3.0       ENE   4.0   19.0   \n",
       "8510  18:00     11         31.0       34.0   6.0        SE   8.0   19.0   \n",
       "8511  21:00     11         27.0       30.0   7.0        SE  10.0   33.0   \n",
       "\n",
       "      humidity  precipitation  pressure        weather  \n",
       "0         86.0            0.0    1012.0          Clear  \n",
       "1         88.0            0.0    1011.0          Clear  \n",
       "2         85.0            0.0    1012.0          Sunny  \n",
       "3         64.0            0.0    1012.0          Sunny  \n",
       "4         53.0            0.0    1010.0  Partly cloudy  \n",
       "...        ...            ...       ...            ...  \n",
       "8507      68.0            0.0    1012.0  Partly cloudy  \n",
       "8508      52.0            0.0    1011.0  Partly cloudy  \n",
       "8509      50.0            0.0    1009.0  Partly cloudy  \n",
       "8510      65.0            0.0    1009.0  Partly cloudy  \n",
       "8511      75.0            0.0    1011.0  Partly cloudy  \n",
       "\n",
       "[8512 rows x 12 columns]"
      ]
     },
     "execution_count": 2,
     "metadata": {},
     "output_type": "execute_result"
    }
   ],
   "source": [
    "data = pd.read_csv(\"weather_data.csv\", sep = \";\")\n",
    "data[:]"
   ]
  },
  {
   "cell_type": "code",
   "execution_count": 3,
   "id": "bed46863-ae0a-472b-bdc9-c8220b21bed1",
   "metadata": {},
   "outputs": [
    {
     "name": "stdout",
     "output_type": "stream",
     "text": [
      "['ENE' 'NE' 'NNE' 'ESE' 'E' 'SE' 'SSE' 'NNW' 'WSW' 'S' 'WNW' 'NW' 'W' 'SW'\n",
      " 'SSW' 'N']\n"
     ]
    }
   ],
   "source": [
    "data[\"target\"] = data.shift(-1)[\"weather\"]\n",
    "data[:]\n",
    "print(data['direction'].unique())"
   ]
  },
  {
   "cell_type": "code",
   "execution_count": 4,
   "id": "2f33a53c-9448-4dec-85a3-40a452f1aa4c",
   "metadata": {
    "tags": []
   },
   "outputs": [],
   "source": [
    "data = data.drop(\"weather\", axis=1)\n",
    "data = data.drop(\"precipitation\", axis=1)    # Too many values 0 that leads to overfitting\n",
    "\n",
    "# Change from 16 directions to 8 directions\n",
    "data['direction'] = data['direction'].replace(['ENE', 'NE', 'NNE'], 'NE')\n",
    "data['direction'] = data['direction'].replace(['ESE', 'SE', 'SSE'], 'SE')\n",
    "data['direction'] = data['direction'].replace(['NNW', 'NW', 'WNW'], 'NW')\n",
    "data['direction'] = data['direction'].replace(['WSW', 'SW', 'SSW'], 'SW')\n",
    "\n",
    "# Change from time to 2 sessions a day\n",
    "data['time'] = data['time'].replace(['0:00', '3:00', '6:00', '9:00'], 'earlier')\n",
    "data['time'] = data['time'].replace(['12:00', '15:00', '18:00', '21:00'], 'later')\n",
    "\n",
    "# Change from month to seasons\n",
    "data['month'] = data['month'].replace([1, 2, 3], 'spring')\n",
    "data['month'] = data['month'].replace([4, 5, 6], 'summer')\n",
    "data['month'] = data['month'].replace([7, 8, 9], 'autumn')\n",
    "data['month'] = data['month'].replace([10, 11, 12], 'winter')"
   ]
  },
  {
   "cell_type": "code",
   "execution_count": 5,
   "id": "707626f7-a701-4c3f-bc97-0a6ba302dd72",
   "metadata": {},
   "outputs": [],
   "source": [
    "data.drop(8511, inplace=True)"
   ]
  },
  {
   "cell_type": "code",
   "execution_count": 6,
   "id": "4df14a35-6958-4c27-8461-27fc970704a5",
   "metadata": {},
   "outputs": [],
   "source": [
    "data = data.rename(columns={'month': 'season'})"
   ]
  },
  {
   "cell_type": "code",
   "execution_count": 7,
   "id": "3933c380-397a-4070-8ce9-c65de78612d3",
   "metadata": {},
   "outputs": [],
   "source": [
    "list_norain = ['Clear', 'Cloudy', 'Mist', 'Sunny', 'Partly cloudy', 'Thundery outbreaks possible', 'Overcast']\n",
    "list_hvrain = ['Patchy rain possible', 'Heavy rain', 'Heavy rain at times', 'Moderate or heavy rain shower', 'Torrential rain shower']\n",
    "list_lrain = ['Light drizzle', 'Light rain', 'Light rain shower', 'Patchy light drizzle', 'Patchy light rain', \n",
    "                'Patchy light rain with thunder', 'Moderate rain', 'Moderate rain at times']\n",
    "\n",
    "y = []\n",
    "for i in data.target:\n",
    "    if i in list_norain:\n",
    "        y.append('There is no rain')\n",
    "    elif i in list_hvrain:\n",
    "        y.append('There is heavy rain')\n",
    "    elif i in list_lrain:\n",
    "        y.append('There is light or little rain')"
   ]
  },
  {
   "cell_type": "code",
   "execution_count": 8,
   "id": "7a201ab9-a33f-4ab4-b829-b3cb44a2ecd0",
   "metadata": {
    "tags": []
   },
   "outputs": [
    {
     "data": {
      "text/plain": [
       "array([['earlier', 'spring', 24.0, 28.0, 8.0, 'NE', 12.0, 4.0, 86.0,\n",
       "        1012.0],\n",
       "       ['earlier', 'spring', 23.0, 27.0, 8.0, 'NE', 10.0, 4.0, 88.0,\n",
       "        1011.0],\n",
       "       ['earlier', 'spring', 23.0, 26.0, 8.0, 'NE', 11.0, 7.0, 85.0,\n",
       "        1012.0],\n",
       "       ['earlier', 'spring', 28.0, 33.0, 11.0, 'NE', 13.0, 6.0, 64.0,\n",
       "        1012.0],\n",
       "       ['later', 'spring', 31.0, 35.0, 10.0, 'NE', 12.0, 62.0, 53.0,\n",
       "        1010.0],\n",
       "       ['later', 'spring', 31.0, 36.0, 1.0, 'NE', 1.0, 79.0, 57.0,\n",
       "        1009.0],\n",
       "       ['later', 'spring', 26.0, 29.0, 5.0, 'SE', 10.0, 40.0, 77.0,\n",
       "        1010.0],\n",
       "       ['later', 'spring', 25.0, 28.0, 8.0, 'NE', 15.0, 29.0, 79.0,\n",
       "        1011.0],\n",
       "       ['earlier', 'spring', 24.0, 26.0, 10.0, 'NE', 17.0, 12.0, 84.0,\n",
       "        1011.0],\n",
       "       ['earlier', 'spring', 23.0, 26.0, 8.0, 'NE', 14.0, 17.0, 85.0,\n",
       "        1010.0]], dtype=object)"
      ]
     },
     "execution_count": 8,
     "metadata": {},
     "output_type": "execute_result"
    }
   ],
   "source": [
    "data = data.rename(columns={'month': 'season'})\n",
    "x = data[['time', 'season', 'temperature', 'feelslike', 'wind', 'direction',\n",
    "       'gust', 'cloud', 'humidity', 'pressure']].values\n",
    "x[0:10]"
   ]
  },
  {
   "cell_type": "code",
   "execution_count": 9,
   "id": "6c3d6fcb-3d53-423c-b1d0-c4a215217c3e",
   "metadata": {},
   "outputs": [],
   "source": [
    "from sklearn.preprocessing import OneHotEncoder, MinMaxScaler, LabelEncoder\n",
    "from sklearn.decomposition import PCA\n",
    "from sklearn.ensemble import RandomForestClassifier\n",
    "from sklearn.pipeline import Pipeline\n",
    "from sklearn.impute import SimpleImputer\n",
    "from sklearn.metrics import accuracy_score\n",
    "\n",
    "num_orders = [2,3,4,6,7,8,9]\n",
    "cat_orders = [0,1,5]"
   ]
  },
  {
   "cell_type": "code",
   "execution_count": 10,
   "id": "a3ee2412-9e52-4b2b-8db1-90a44d6b4e65",
   "metadata": {
    "tags": []
   },
   "outputs": [],
   "source": [
    "le = LabelEncoder()\n",
    "\n",
    "le.fit(['There is no rain', 'There is heavy rain', 'There is light or little rain'])\n",
    "y = le.transform(y) "
   ]
  },
  {
   "cell_type": "code",
   "execution_count": 11,
   "id": "717d7eb5-31d4-4be1-8646-7dcb5014f04a",
   "metadata": {},
   "outputs": [],
   "source": [
    "x_train, x_test, y_train, y_test = train_test_split(x, y, test_size = 0.2, stratify = y, random_state = 1)"
   ]
  },
  {
   "cell_type": "code",
   "execution_count": 12,
   "id": "1eea3ba6-c0dd-4020-8ed2-ae9d8869451b",
   "metadata": {},
   "outputs": [],
   "source": [
    "# Pipeline for categorical data handling\n",
    "cat_pl= Pipeline(\n",
    "    steps=[('imputer', SimpleImputer(strategy='most_frequent')),    # Handle missing values with mean value though in this dataset we don't have\n",
    "           ('onehot', OneHotEncoder(handle_unknown= 'ignore'))]     # Transform categorical data into onehot vectors\n",
    "        ) \n",
    "\n",
    "# Pipeline for numerical data handling\n",
    "num_pl = Pipeline(\n",
    "    steps=[\n",
    "           ('imputer', SimpleImputer(strategy='mean')),             # Handle missing values with forward value though in this dataset we don't have\n",
    "           ('mmscaler', MinMaxScaler())]                            # Normalization with MinMaxScaling\n",
    "         )"
   ]
  },
  {
   "cell_type": "code",
   "execution_count": 13,
   "id": "5c824e5a-abfe-44c7-9c26-dbbd440426e8",
   "metadata": {},
   "outputs": [],
   "source": [
    "from sklearn.compose import ColumnTransformer\n",
    "\n",
    "preprocessor = ColumnTransformer(transformers=[\n",
    "                                        ('num', num_pl, num_orders),    # apply cat_pl for categorical columns\n",
    "                                        ('cat', cat_pl, cat_orders)]    # apply num_pl for numerical columns\n",
    "               )"
   ]
  },
  {
   "cell_type": "code",
   "execution_count": 14,
   "id": "4c5005b0-5eae-4843-b875-7cbadc5909ec",
   "metadata": {},
   "outputs": [
    {
     "name": "stdout",
     "output_type": "stream",
     "text": [
      "Accuracy on train: 0.81\n",
      "Accuracy on test: 0.80\n"
     ]
    }
   ],
   "source": [
    "# Completed training pipeline\n",
    "completed_pl = Pipeline(steps=[\n",
    "            (\"preprocessor\", preprocessor), \n",
    "            (\"classifier\", RandomForestClassifier(random_state=42, n_jobs=-1, max_depth=5,\n",
    "                                       n_estimators=100, oob_score=True))]\n",
    "               )\n",
    "\n",
    "# training\n",
    "completed_pl.fit(x_train, y_train)\n",
    "\n",
    "# accuracy\n",
    "y_train_pred = completed_pl.predict(x_train)\n",
    "print(f\"Accuracy on train: {accuracy_score(list(y_train), list(y_train_pred)):.2f}\")\n",
    "\n",
    "y_pred = completed_pl.predict(x_test)\n",
    "print(f\"Accuracy on test: {accuracy_score(list(y_test), list(y_pred)):.2f}\")"
   ]
  },
  {
   "cell_type": "code",
   "execution_count": null,
   "id": "bb0927d7-4fb6-4ac1-ae40-91af1479d3f4",
   "metadata": {},
   "outputs": [],
   "source": []
  }
 ],
 "metadata": {
  "kernelspec": {
   "display_name": "Python 3 (ipykernel)",
   "language": "python",
   "name": "python3"
  },
  "language_info": {
   "codemirror_mode": {
    "name": "ipython",
    "version": 3
   },
   "file_extension": ".py",
   "mimetype": "text/x-python",
   "name": "python",
   "nbconvert_exporter": "python",
   "pygments_lexer": "ipython3",
   "version": "3.9.13"
  }
 },
 "nbformat": 4,
 "nbformat_minor": 5
}
