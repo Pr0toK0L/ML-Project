{
 "cells": [
  {
   "cell_type": "code",
   "execution_count": 1,
   "metadata": {},
   "outputs": [],
   "source": [
    "import numpy as np\n",
    "import matplotlib.pyplot as plt\n",
    "import pandas as pd\n",
    "#import dataset from weather_data.csv file\n",
    "dataset = pd.read_csv(\"content\\weather_data.csv\", sep = \";\")\n",
    "dataset=dataset.reset_index(drop=True)\n",
    "training_set = dataset.iloc[:6000,2:3].values\n"
   ]
  },
  {
   "cell_type": "code",
   "execution_count": 2,
   "metadata": {},
   "outputs": [],
   "source": [
    "#Feature Scaling \n",
    "from sklearn.preprocessing import MinMaxScaler\n",
    "sc = MinMaxScaler(feature_range=(0,1))\n",
    "training_set_scaled = sc.fit_transform(training_set)"
   ]
  },
  {
   "cell_type": "code",
   "execution_count": 3,
   "metadata": {},
   "outputs": [],
   "source": [
    "x_train = []\n",
    "y_train = []\n",
    "n_future = 8 # next 24 hours temperature forecast\n",
    "n_past = 56 # Past 7 days\n",
    "for i in range(0,len(training_set_scaled)-n_past-n_future+1):\n",
    "    x_train.append(training_set_scaled[i : i + n_past , 0])     \n",
    "    y_train.append(training_set_scaled[i + n_past : i + n_past + n_future , 0 ])\n",
    "x_train , y_train = np.array(x_train), np.array(y_train)\n",
    "x_train = np.reshape(x_train, (x_train.shape[0] , x_train.shape[1], 1) )"
   ]
  },
  {
   "cell_type": "code",
   "execution_count": 4,
   "metadata": {},
   "outputs": [],
   "source": [
    "from keras.models import Sequential\n",
    "from keras.layers import LSTM,Dense ,Dropout\n",
    "from tensorflow.keras.layers import Bidirectional\n",
    "# Fitting RNN to training set using Keras Callbacks. Read Keras callbacks docs for more info."
   ]
  },
  {
   "cell_type": "code",
   "execution_count": 5,
   "metadata": {},
   "outputs": [
    {
     "name": "stdout",
     "output_type": "stream",
     "text": [
      "Epoch 1/30\n",
      "186/186 [==============================] - 16s 48ms/step - loss: 0.0412 - acc: 0.1315\n",
      "Epoch 2/30\n",
      "186/186 [==============================] - 8s 44ms/step - loss: 0.0285 - acc: 0.1300\n",
      "Epoch 3/30\n",
      "186/186 [==============================] - 8s 44ms/step - loss: 0.0263 - acc: 0.1395\n",
      "Epoch 4/30\n",
      "186/186 [==============================] - 8s 42ms/step - loss: 0.0213 - acc: 0.2392\n",
      "Epoch 5/30\n",
      "186/186 [==============================] - 9s 47ms/step - loss: 0.0180 - acc: 0.2904\n",
      "Epoch 6/30\n",
      "186/186 [==============================] - 9s 48ms/step - loss: 0.0143 - acc: 0.3935\n",
      "Epoch 7/30\n",
      "186/186 [==============================] - 8s 44ms/step - loss: 0.0104 - acc: 0.5191\n",
      "Epoch 8/30\n",
      "186/186 [==============================] - 8s 45ms/step - loss: 0.0085 - acc: 0.5936\n",
      "Epoch 9/30\n",
      "186/186 [==============================] - 8s 44ms/step - loss: 0.0076 - acc: 0.6476\n",
      "Epoch 10/30\n",
      "186/186 [==============================] - 8s 45ms/step - loss: 0.0068 - acc: 0.6913\n",
      "Epoch 11/30\n",
      "186/186 [==============================] - 8s 46ms/step - loss: 0.0062 - acc: 0.7357\n",
      "Epoch 12/30\n",
      "186/186 [==============================] - 8s 45ms/step - loss: 0.0059 - acc: 0.7564\n",
      "Epoch 13/30\n",
      "186/186 [==============================] - 9s 47ms/step - loss: 0.0055 - acc: 0.7785\n",
      "Epoch 14/30\n",
      "186/186 [==============================] - 8s 46ms/step - loss: 0.0054 - acc: 0.7922\n",
      "Epoch 15/30\n",
      "186/186 [==============================] - 8s 44ms/step - loss: 0.0052 - acc: 0.7891\n",
      "Epoch 16/30\n",
      "186/186 [==============================] - 8s 44ms/step - loss: 0.0050 - acc: 0.7996\n",
      "Epoch 17/30\n",
      "186/186 [==============================] - 8s 45ms/step - loss: 0.0048 - acc: 0.8100\n",
      "Epoch 18/30\n",
      "186/186 [==============================] - 8s 44ms/step - loss: 0.0048 - acc: 0.8056\n",
      "Epoch 19/30\n",
      "186/186 [==============================] - 8s 45ms/step - loss: 0.0048 - acc: 0.8135\n",
      "Epoch 20/30\n",
      "186/186 [==============================] - 8s 44ms/step - loss: 0.0046 - acc: 0.8144\n",
      "Epoch 21/30\n",
      "186/186 [==============================] - 8s 45ms/step - loss: 0.0046 - acc: 0.8231\n",
      "Epoch 22/30\n",
      "186/186 [==============================] - 8s 45ms/step - loss: 0.0046 - acc: 0.8171\n",
      "Epoch 23/30\n",
      "186/186 [==============================] - 9s 46ms/step - loss: 0.0044 - acc: 0.8272\n",
      "Epoch 24/30\n",
      "186/186 [==============================] - 8s 45ms/step - loss: 0.0044 - acc: 0.8295\n",
      "Epoch 25/30\n",
      "186/186 [==============================] - 9s 49ms/step - loss: 0.0044 - acc: 0.8253\n",
      "Epoch 26/30\n",
      "186/186 [==============================] - 9s 48ms/step - loss: 0.0044 - acc: 0.8247\n",
      "Epoch 27/30\n",
      "186/186 [==============================] - 9s 46ms/step - loss: 0.0043 - acc: 0.8289\n",
      "Epoch 28/30\n",
      "186/186 [==============================] - 9s 46ms/step - loss: 0.0043 - acc: 0.8327\n",
      "Epoch 29/30\n",
      "186/186 [==============================] - 9s 50ms/step - loss: 0.0043 - acc: 0.8304\n",
      "Epoch 30/30\n",
      "186/186 [==============================] - 8s 45ms/step - loss: 0.0043 - acc: 0.8329\n"
     ]
    },
    {
     "data": {
      "text/plain": [
       "<keras.callbacks.History at 0x20cb55d41d0>"
      ]
     },
     "execution_count": 5,
     "metadata": {},
     "output_type": "execute_result"
    }
   ],
   "source": [
    "regressor = Sequential()\n",
    "regressor.add(Bidirectional(LSTM(units=30, return_sequences=True, input_shape = (x_train.shape[1],1) ) ))\n",
    "regressor.add(Dropout(0.2))\n",
    "regressor.add(LSTM(units= 30 , return_sequences=True))\n",
    "regressor.add(Dropout(0.2))\n",
    "regressor.add(LSTM(units= 30 , return_sequences=True))\n",
    "regressor.add(Dropout(0.2))\n",
    "regressor.add(LSTM(units= 30))\n",
    "regressor.add(Dropout(0.2))\n",
    "regressor.add(Dense(units = n_future,activation='linear'))\n",
    "regressor.compile(optimizer='adam', loss='mean_squared_error',metrics=['acc'])\n",
    "regressor.fit(x_train, y_train, epochs=30,batch_size=32 )"
   ]
  },
  {
   "cell_type": "code",
   "execution_count": 6,
   "metadata": {},
   "outputs": [],
   "source": [
    "# read test dataset\n",
    "testdataset = pd.read_csv('content\\weather_data.csv', sep =\";\")\n",
    "testdataset = testdataset.drop(\"time\", axis = 1)\n",
    "testdataset = testdataset.drop(\"direction\", axis = 1)\n",
    "testdataset = testdataset.drop(\"weather\", axis = 1)\n",
    "#get only the temperature column\n",
    "testdataset = testdataset.iloc[6000:8000,2:3].values\n",
    "real_temperature = pd.read_csv('content\\weather_data.csv', sep = \";\")\n",
    "real_temperature = real_temperature.iloc[8000:,2:3].values\n",
    "testing = sc.transform(testdataset)\n",
    "testing = np.array(testing)\n",
    "testing = np.reshape(testing,(testing.shape[1],testing.shape[0],1))\n"
   ]
  },
  {
   "cell_type": "code",
   "execution_count": 7,
   "metadata": {},
   "outputs": [
    {
     "name": "stdout",
     "output_type": "stream",
     "text": [
      "1/1 [==============================] - 2s 2s/step\n"
     ]
    }
   ],
   "source": [
    "from sklearn.metrics import accuracy_score\n",
    "import sklearn\n",
    "predicted_temperature = regressor.predict(testing)\n",
    "predicted_temperature = sc.inverse_transform(predicted_temperature)\n",
    "predicted_temperature = np.reshape(predicted_temperature,(predicted_temperature.shape[1],predicted_temperature.shape[0],1))"
   ]
  }
 ],
 "metadata": {
  "kernelspec": {
   "display_name": "Python 3",
   "language": "python",
   "name": "python3"
  },
  "language_info": {
   "codemirror_mode": {
    "name": "ipython",
    "version": 3
   },
   "file_extension": ".py",
   "mimetype": "text/x-python",
   "name": "python",
   "nbconvert_exporter": "python",
   "pygments_lexer": "ipython3",
   "version": "3.11.4"
  },
  "orig_nbformat": 4
 },
 "nbformat": 4,
 "nbformat_minor": 2
}
