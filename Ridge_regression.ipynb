{
  "nbformat": 4,
  "nbformat_minor": 0,
  "metadata": {
    "colab": {
      "provenance": []
    },
    "kernelspec": {
      "name": "python3",
      "display_name": "Python 3"
    },
    "language_info": {
      "name": "python"
    }
  },
  "cells": [
    {
      "cell_type": "code",
      "execution_count": 10,
      "metadata": {
        "colab": {
          "base_uri": "https://localhost:8080/"
        },
        "id": "a9RdkWjRNiGx",
        "outputId": "34ce563c-7b11-4b14-9e37-b01ce11a7a2d"
      },
      "outputs": [
        {
          "output_type": "execute_result",
          "data": {
            "text/plain": [
              "1.9249422944830297"
            ]
          },
          "metadata": {},
          "execution_count": 10
        }
      ],
      "source": [
        "import sklearn\n",
        "import numpy as np\n",
        "import pandas as pd\n",
        "\n",
        "from sklearn.linear_model import Ridge\n",
        "import re\n",
        "from sklearn.metrics import classification_report\n",
        "\n",
        "\n",
        "data = pd.read_csv(\"/content/weather_data.csv\", delimiter = ';')\n",
        "\n",
        "core_data = data[[\"time\",\"month\", \"temperature\", \"feelslike\", \"precipitation\"]].copy()\n",
        "core_data.columns = [\"time\", \"month\", \"temp\", \"flike\", \"precip\"]\n",
        "\n",
        "core_data[\"target\"] = core_data.shift(-1)[\"temp\"]\n",
        "core_data = core_data.iloc[:-1,:].copy()\n",
        "\n",
        "reg = Ridge(alpha=.1)\n",
        "#Trong mô hình hồi quy Ridge, tham số alpha kiểm soát regularization strength.\n",
        "#Giá trị alpha cao hơn có thể làm giảm độ phức tạp của mô hình và tăng độ lệch nhưng giảm phương sai,\n",
        "#trong khi giá trị alpha thấp hơn có thể làm tăng độ phức tạp, giảm độ lệch nhưng tăng phương sai.\n",
        "\n",
        "predictors = [\"precip\", \"temp\", \"flike\"]\n",
        "\n",
        "train = core_data[:2000]\n",
        "\n",
        "test = core_data[2000:4000]\n",
        "\n",
        "reg.fit(train[predictors], train[\"target\"])\n",
        "predictions = reg.predict(test[predictors])\n",
        "\n",
        "from sklearn.metrics import mean_absolute_error\n",
        "\n",
        "mean_absolute_error(test[\"target\"], predictions)\n",
        "\n",
        "# Do dự đoán là liên tục cách nhau 3 tiếng nên việc MAE gần 2 độ là không quá tệ.\n",
        "# MAE là một phương pháp đo lường sự khác biệt giữa hai biến liên tục."
      ]
    },
    {
      "cell_type": "code",
      "source": [
        "\n",
        "combined = pd.concat([test[\"target\"], pd.Series(predictions, index=test.index)], axis=1)\n",
        "combined.columns = [\"actual\", \"predictions\"]\n",
        "\n",
        "#precip âm và thấp do khả năng mưa của sài gòn là ít,\n",
        "# flike cao nhất có nghĩa rằng thông số feellike ảnh hưởng lớn nhất đến dự đoán\n",
        "# thật ra cũng không cao lắm so với nhiệt độ thực tế\n",
        "\n",
        "reg.coef_\n"
      ],
      "metadata": {
        "colab": {
          "base_uri": "https://localhost:8080/"
        },
        "id": "LButdNAic8Vc",
        "outputId": "b8ce0497-185a-4c45-be66-2df5f68df916"
      },
      "execution_count": 11,
      "outputs": [
        {
          "output_type": "execute_result",
          "data": {
            "text/plain": [
              "array([-0.53068013,  0.18264847,  0.4263177 ])"
            ]
          },
          "metadata": {},
          "execution_count": 11
        }
      ]
    },
    {
      "cell_type": "code",
      "source": [
        "def create_predictions(predictors, core_data, reg):\n",
        "    train = core_data.loc[4000:6000]\n",
        "    test = core_data.loc[6000:]\n",
        "    reg.fit(train[predictors], train[\"target\"])\n",
        "    predictions = reg.predict(test[predictors])\n",
        "    error = mean_absolute_error(test[\"target\"], predictions)\n",
        "    combined = pd.concat([test[\"target\"], pd.Series(predictions, index=test.index)], axis=1)\n",
        "    combined.columns = [\"actual\", \"predictions\"]\n",
        "    return error, combined\n",
        "\n",
        "# khởi tạo hàm dự đoán nhận bảng dữ liệu đã dự đoán đã tạo trước, bảng dữ liệu gốc và reg"
      ],
      "metadata": {
        "id": "FmeVzEN5dFRt"
      },
      "execution_count": 5,
      "outputs": []
    },
    {
      "cell_type": "code",
      "source": [
        "\n",
        "#lấy nhiệt độ trung bình 1 tháng trở lại đặt vào cột month_max\n",
        "core_data[\"month_avg\"] = core_data[\"temp\"].rolling(30).mean()\n",
        "\n",
        "#tỉ lệ nhiệt độ hôm nay / 1 tháng qua\n",
        "core_data[\"temp_ratio_monthAvg\"] = core_data[\"temp\"] / core_data[\"month_avg\"]\n",
        "\n",
        "#tỉ lệ nhiệt độ thực / nhiệt độ cảm thấy\n",
        "core_data[\"real/feel\"] = core_data[\"temp\"] / core_data[\"flike\"]\n",
        "\n",
        "predictors = [\"precip\", \"temp\", \"flike\", \"month_avg\", \"temp_ratio_monthAvg\", \"real/feel\"]\n",
        "\n",
        "core_data = core_data.iloc[30:,:].copy()\n",
        "\n",
        "error, combined = create_predictions(predictors, core_data, reg)\n",
        "\n",
        "error"
      ],
      "metadata": {
        "colab": {
          "base_uri": "https://localhost:8080/"
        },
        "id": "DhqpLjXudHye",
        "outputId": "247d2169-aa3f-44c5-d4f8-8f78cc11b886"
      },
      "execution_count": 6,
      "outputs": [
        {
          "output_type": "execute_result",
          "data": {
            "text/plain": [
              "1.6610128333795287"
            ]
          },
          "metadata": {},
          "execution_count": 6
        }
      ]
    },
    {
      "cell_type": "code",
      "source": [
        "reg.coef_"
      ],
      "metadata": {
        "colab": {
          "base_uri": "https://localhost:8080/"
        },
        "id": "MwoVh_WAO1V4",
        "outputId": "dfb33a20-46b2-4b4b-a86a-8c738ddd7121"
      },
      "execution_count": 7,
      "outputs": [
        {
          "output_type": "execute_result",
          "data": {
            "text/plain": [
              "array([-0.2885536 ,  0.62156389,  0.04431034,  0.01240347, -0.43997132,\n",
              "       -6.80746694])"
            ]
          },
          "metadata": {},
          "execution_count": 7
        }
      ]
    },
    {
      "cell_type": "code",
      "source": [
        "core_data.head()"
      ],
      "metadata": {
        "colab": {
          "base_uri": "https://localhost:8080/",
          "height": 206
        },
        "id": "CXvBa3sHPBFa",
        "outputId": "2ec4c910-4924-4f79-ff33-076baef9a60f"
      },
      "execution_count": 8,
      "outputs": [
        {
          "output_type": "execute_result",
          "data": {
            "text/plain": [
              "     time  month  temp  flike  precip  target  month_avg  temp_ratio_monthAvg  \\\n",
              "30  18:00      1  26.0   30.0     0.0    25.0  26.633333             0.976220   \n",
              "31  21:00      1  25.0   28.0     0.4    24.0  26.700000             0.936330   \n",
              "32   0:00      1  24.0   27.0     0.0    24.0  26.733333             0.897756   \n",
              "33   3:00      1  24.0   27.0     0.0    24.0  26.600000             0.902256   \n",
              "34   6:00      1  24.0   27.0     0.0    28.0  26.366667             0.910240   \n",
              "\n",
              "    real/feel  \n",
              "30   0.866667  \n",
              "31   0.892857  \n",
              "32   0.888889  \n",
              "33   0.888889  \n",
              "34   0.888889  "
            ],
            "text/html": [
              "\n",
              "  <div id=\"df-c623be7c-3840-4f7b-803d-adf6608e0a1b\">\n",
              "    <div class=\"colab-df-container\">\n",
              "      <div>\n",
              "<style scoped>\n",
              "    .dataframe tbody tr th:only-of-type {\n",
              "        vertical-align: middle;\n",
              "    }\n",
              "\n",
              "    .dataframe tbody tr th {\n",
              "        vertical-align: top;\n",
              "    }\n",
              "\n",
              "    .dataframe thead th {\n",
              "        text-align: right;\n",
              "    }\n",
              "</style>\n",
              "<table border=\"1\" class=\"dataframe\">\n",
              "  <thead>\n",
              "    <tr style=\"text-align: right;\">\n",
              "      <th></th>\n",
              "      <th>time</th>\n",
              "      <th>month</th>\n",
              "      <th>temp</th>\n",
              "      <th>flike</th>\n",
              "      <th>precip</th>\n",
              "      <th>target</th>\n",
              "      <th>month_avg</th>\n",
              "      <th>temp_ratio_monthAvg</th>\n",
              "      <th>real/feel</th>\n",
              "    </tr>\n",
              "  </thead>\n",
              "  <tbody>\n",
              "    <tr>\n",
              "      <th>30</th>\n",
              "      <td>18:00</td>\n",
              "      <td>1</td>\n",
              "      <td>26.0</td>\n",
              "      <td>30.0</td>\n",
              "      <td>0.0</td>\n",
              "      <td>25.0</td>\n",
              "      <td>26.633333</td>\n",
              "      <td>0.976220</td>\n",
              "      <td>0.866667</td>\n",
              "    </tr>\n",
              "    <tr>\n",
              "      <th>31</th>\n",
              "      <td>21:00</td>\n",
              "      <td>1</td>\n",
              "      <td>25.0</td>\n",
              "      <td>28.0</td>\n",
              "      <td>0.4</td>\n",
              "      <td>24.0</td>\n",
              "      <td>26.700000</td>\n",
              "      <td>0.936330</td>\n",
              "      <td>0.892857</td>\n",
              "    </tr>\n",
              "    <tr>\n",
              "      <th>32</th>\n",
              "      <td>0:00</td>\n",
              "      <td>1</td>\n",
              "      <td>24.0</td>\n",
              "      <td>27.0</td>\n",
              "      <td>0.0</td>\n",
              "      <td>24.0</td>\n",
              "      <td>26.733333</td>\n",
              "      <td>0.897756</td>\n",
              "      <td>0.888889</td>\n",
              "    </tr>\n",
              "    <tr>\n",
              "      <th>33</th>\n",
              "      <td>3:00</td>\n",
              "      <td>1</td>\n",
              "      <td>24.0</td>\n",
              "      <td>27.0</td>\n",
              "      <td>0.0</td>\n",
              "      <td>24.0</td>\n",
              "      <td>26.600000</td>\n",
              "      <td>0.902256</td>\n",
              "      <td>0.888889</td>\n",
              "    </tr>\n",
              "    <tr>\n",
              "      <th>34</th>\n",
              "      <td>6:00</td>\n",
              "      <td>1</td>\n",
              "      <td>24.0</td>\n",
              "      <td>27.0</td>\n",
              "      <td>0.0</td>\n",
              "      <td>28.0</td>\n",
              "      <td>26.366667</td>\n",
              "      <td>0.910240</td>\n",
              "      <td>0.888889</td>\n",
              "    </tr>\n",
              "  </tbody>\n",
              "</table>\n",
              "</div>\n",
              "      <button class=\"colab-df-convert\" onclick=\"convertToInteractive('df-c623be7c-3840-4f7b-803d-adf6608e0a1b')\"\n",
              "              title=\"Convert this dataframe to an interactive table.\"\n",
              "              style=\"display:none;\">\n",
              "        \n",
              "  <svg xmlns=\"http://www.w3.org/2000/svg\" height=\"24px\"viewBox=\"0 0 24 24\"\n",
              "       width=\"24px\">\n",
              "    <path d=\"M0 0h24v24H0V0z\" fill=\"none\"/>\n",
              "    <path d=\"M18.56 5.44l.94 2.06.94-2.06 2.06-.94-2.06-.94-.94-2.06-.94 2.06-2.06.94zm-11 1L8.5 8.5l.94-2.06 2.06-.94-2.06-.94L8.5 2.5l-.94 2.06-2.06.94zm10 10l.94 2.06.94-2.06 2.06-.94-2.06-.94-.94-2.06-.94 2.06-2.06.94z\"/><path d=\"M17.41 7.96l-1.37-1.37c-.4-.4-.92-.59-1.43-.59-.52 0-1.04.2-1.43.59L10.3 9.45l-7.72 7.72c-.78.78-.78 2.05 0 2.83L4 21.41c.39.39.9.59 1.41.59.51 0 1.02-.2 1.41-.59l7.78-7.78 2.81-2.81c.8-.78.8-2.07 0-2.86zM5.41 20L4 18.59l7.72-7.72 1.47 1.35L5.41 20z\"/>\n",
              "  </svg>\n",
              "      </button>\n",
              "      \n",
              "  <style>\n",
              "    .colab-df-container {\n",
              "      display:flex;\n",
              "      flex-wrap:wrap;\n",
              "      gap: 12px;\n",
              "    }\n",
              "\n",
              "    .colab-df-convert {\n",
              "      background-color: #E8F0FE;\n",
              "      border: none;\n",
              "      border-radius: 50%;\n",
              "      cursor: pointer;\n",
              "      display: none;\n",
              "      fill: #1967D2;\n",
              "      height: 32px;\n",
              "      padding: 0 0 0 0;\n",
              "      width: 32px;\n",
              "    }\n",
              "\n",
              "    .colab-df-convert:hover {\n",
              "      background-color: #E2EBFA;\n",
              "      box-shadow: 0px 1px 2px rgba(60, 64, 67, 0.3), 0px 1px 3px 1px rgba(60, 64, 67, 0.15);\n",
              "      fill: #174EA6;\n",
              "    }\n",
              "\n",
              "    [theme=dark] .colab-df-convert {\n",
              "      background-color: #3B4455;\n",
              "      fill: #D2E3FC;\n",
              "    }\n",
              "\n",
              "    [theme=dark] .colab-df-convert:hover {\n",
              "      background-color: #434B5C;\n",
              "      box-shadow: 0px 1px 3px 1px rgba(0, 0, 0, 0.15);\n",
              "      filter: drop-shadow(0px 1px 2px rgba(0, 0, 0, 0.3));\n",
              "      fill: #FFFFFF;\n",
              "    }\n",
              "  </style>\n",
              "\n",
              "      <script>\n",
              "        const buttonEl =\n",
              "          document.querySelector('#df-c623be7c-3840-4f7b-803d-adf6608e0a1b button.colab-df-convert');\n",
              "        buttonEl.style.display =\n",
              "          google.colab.kernel.accessAllowed ? 'block' : 'none';\n",
              "\n",
              "        async function convertToInteractive(key) {\n",
              "          const element = document.querySelector('#df-c623be7c-3840-4f7b-803d-adf6608e0a1b');\n",
              "          const dataTable =\n",
              "            await google.colab.kernel.invokeFunction('convertToInteractive',\n",
              "                                                     [key], {});\n",
              "          if (!dataTable) return;\n",
              "\n",
              "          const docLinkHtml = 'Like what you see? Visit the ' +\n",
              "            '<a target=\"_blank\" href=https://colab.research.google.com/notebooks/data_table.ipynb>data table notebook</a>'\n",
              "            + ' to learn more about interactive tables.';\n",
              "          element.innerHTML = '';\n",
              "          dataTable['output_type'] = 'display_data';\n",
              "          await google.colab.output.renderOutput(dataTable, element);\n",
              "          const docLink = document.createElement('div');\n",
              "          docLink.innerHTML = docLinkHtml;\n",
              "          element.appendChild(docLink);\n",
              "        }\n",
              "      </script>\n",
              "    </div>\n",
              "  </div>\n",
              "  "
            ]
          },
          "metadata": {},
          "execution_count": 8
        }
      ]
    },
    {
      "cell_type": "code",
      "source": [
        "core_data.corr()[\"target\"]\n",
        "#Compute pairwise correlation of columns, excluding NA/null values.\n",
        "#dự đoán được chủ yếu dựa vào nhiệt độ thực và nhiệt độ cảm thấy"
      ],
      "metadata": {
        "colab": {
          "base_uri": "https://localhost:8080/"
        },
        "id": "aAtChMW0Pfuo",
        "outputId": "c2edff0e-efe8-4f3d-d15c-8906812eda19"
      },
      "execution_count": 9,
      "outputs": [
        {
          "output_type": "stream",
          "name": "stderr",
          "text": [
            "<ipython-input-9-d2dbf3bfab0c>:1: FutureWarning: The default value of numeric_only in DataFrame.corr is deprecated. In a future version, it will default to False. Select only valid columns or specify the value of numeric_only to silence this warning.\n",
            "  core_data.corr()[\"target\"]\n"
          ]
        },
        {
          "output_type": "execute_result",
          "data": {
            "text/plain": [
              "month                 -0.189328\n",
              "temp                   0.736504\n",
              "flike                  0.694773\n",
              "precip                -0.113039\n",
              "target                 1.000000\n",
              "month_avg              0.396756\n",
              "temp_ratio_monthAvg    0.597505\n",
              "real/feel             -0.017284\n",
              "Name: target, dtype: float64"
            ]
          },
          "metadata": {},
          "execution_count": 9
        }
      ]
    },
    {
      "cell_type": "code",
      "source": [
        "combined[\"diff\"] = (combined[\"actual\"] - combined[\"predictions\"]).abs()\n",
        "combined.sort_values(\"diff\", ascending=False).head()\n",
        "combined\n"
      ],
      "metadata": {
        "colab": {
          "base_uri": "https://localhost:8080/",
          "height": 423
        },
        "id": "0CoEZa0rP_Ll",
        "outputId": "433e07a1-6ac9-44e0-99f1-3aff6a42393d"
      },
      "execution_count": 12,
      "outputs": [
        {
          "output_type": "execute_result",
          "data": {
            "text/plain": [
              "      actual  predictions      diff\n",
              "2000    26.0    28.287763  2.287763\n",
              "2001    28.0    27.678797  0.321203\n",
              "2002    32.0    29.323047  2.676953\n",
              "2003    34.0    32.611547  1.388453\n",
              "2004    33.0    33.403162  0.403162\n",
              "...      ...          ...       ...\n",
              "3995    35.0    31.941560  3.058440\n",
              "3996    34.0    32.306857  1.693143\n",
              "3997    30.0    32.124209  2.124209\n",
              "3998    29.0    29.688344  0.688344\n",
              "3999    28.0    29.079378  1.079378\n",
              "\n",
              "[2000 rows x 3 columns]"
            ],
            "text/html": [
              "\n",
              "  <div id=\"df-c9f5abdd-ae7f-4783-8c29-69b50536726b\">\n",
              "    <div class=\"colab-df-container\">\n",
              "      <div>\n",
              "<style scoped>\n",
              "    .dataframe tbody tr th:only-of-type {\n",
              "        vertical-align: middle;\n",
              "    }\n",
              "\n",
              "    .dataframe tbody tr th {\n",
              "        vertical-align: top;\n",
              "    }\n",
              "\n",
              "    .dataframe thead th {\n",
              "        text-align: right;\n",
              "    }\n",
              "</style>\n",
              "<table border=\"1\" class=\"dataframe\">\n",
              "  <thead>\n",
              "    <tr style=\"text-align: right;\">\n",
              "      <th></th>\n",
              "      <th>actual</th>\n",
              "      <th>predictions</th>\n",
              "      <th>diff</th>\n",
              "    </tr>\n",
              "  </thead>\n",
              "  <tbody>\n",
              "    <tr>\n",
              "      <th>2000</th>\n",
              "      <td>26.0</td>\n",
              "      <td>28.287763</td>\n",
              "      <td>2.287763</td>\n",
              "    </tr>\n",
              "    <tr>\n",
              "      <th>2001</th>\n",
              "      <td>28.0</td>\n",
              "      <td>27.678797</td>\n",
              "      <td>0.321203</td>\n",
              "    </tr>\n",
              "    <tr>\n",
              "      <th>2002</th>\n",
              "      <td>32.0</td>\n",
              "      <td>29.323047</td>\n",
              "      <td>2.676953</td>\n",
              "    </tr>\n",
              "    <tr>\n",
              "      <th>2003</th>\n",
              "      <td>34.0</td>\n",
              "      <td>32.611547</td>\n",
              "      <td>1.388453</td>\n",
              "    </tr>\n",
              "    <tr>\n",
              "      <th>2004</th>\n",
              "      <td>33.0</td>\n",
              "      <td>33.403162</td>\n",
              "      <td>0.403162</td>\n",
              "    </tr>\n",
              "    <tr>\n",
              "      <th>...</th>\n",
              "      <td>...</td>\n",
              "      <td>...</td>\n",
              "      <td>...</td>\n",
              "    </tr>\n",
              "    <tr>\n",
              "      <th>3995</th>\n",
              "      <td>35.0</td>\n",
              "      <td>31.941560</td>\n",
              "      <td>3.058440</td>\n",
              "    </tr>\n",
              "    <tr>\n",
              "      <th>3996</th>\n",
              "      <td>34.0</td>\n",
              "      <td>32.306857</td>\n",
              "      <td>1.693143</td>\n",
              "    </tr>\n",
              "    <tr>\n",
              "      <th>3997</th>\n",
              "      <td>30.0</td>\n",
              "      <td>32.124209</td>\n",
              "      <td>2.124209</td>\n",
              "    </tr>\n",
              "    <tr>\n",
              "      <th>3998</th>\n",
              "      <td>29.0</td>\n",
              "      <td>29.688344</td>\n",
              "      <td>0.688344</td>\n",
              "    </tr>\n",
              "    <tr>\n",
              "      <th>3999</th>\n",
              "      <td>28.0</td>\n",
              "      <td>29.079378</td>\n",
              "      <td>1.079378</td>\n",
              "    </tr>\n",
              "  </tbody>\n",
              "</table>\n",
              "<p>2000 rows × 3 columns</p>\n",
              "</div>\n",
              "      <button class=\"colab-df-convert\" onclick=\"convertToInteractive('df-c9f5abdd-ae7f-4783-8c29-69b50536726b')\"\n",
              "              title=\"Convert this dataframe to an interactive table.\"\n",
              "              style=\"display:none;\">\n",
              "        \n",
              "  <svg xmlns=\"http://www.w3.org/2000/svg\" height=\"24px\"viewBox=\"0 0 24 24\"\n",
              "       width=\"24px\">\n",
              "    <path d=\"M0 0h24v24H0V0z\" fill=\"none\"/>\n",
              "    <path d=\"M18.56 5.44l.94 2.06.94-2.06 2.06-.94-2.06-.94-.94-2.06-.94 2.06-2.06.94zm-11 1L8.5 8.5l.94-2.06 2.06-.94-2.06-.94L8.5 2.5l-.94 2.06-2.06.94zm10 10l.94 2.06.94-2.06 2.06-.94-2.06-.94-.94-2.06-.94 2.06-2.06.94z\"/><path d=\"M17.41 7.96l-1.37-1.37c-.4-.4-.92-.59-1.43-.59-.52 0-1.04.2-1.43.59L10.3 9.45l-7.72 7.72c-.78.78-.78 2.05 0 2.83L4 21.41c.39.39.9.59 1.41.59.51 0 1.02-.2 1.41-.59l7.78-7.78 2.81-2.81c.8-.78.8-2.07 0-2.86zM5.41 20L4 18.59l7.72-7.72 1.47 1.35L5.41 20z\"/>\n",
              "  </svg>\n",
              "      </button>\n",
              "      \n",
              "  <style>\n",
              "    .colab-df-container {\n",
              "      display:flex;\n",
              "      flex-wrap:wrap;\n",
              "      gap: 12px;\n",
              "    }\n",
              "\n",
              "    .colab-df-convert {\n",
              "      background-color: #E8F0FE;\n",
              "      border: none;\n",
              "      border-radius: 50%;\n",
              "      cursor: pointer;\n",
              "      display: none;\n",
              "      fill: #1967D2;\n",
              "      height: 32px;\n",
              "      padding: 0 0 0 0;\n",
              "      width: 32px;\n",
              "    }\n",
              "\n",
              "    .colab-df-convert:hover {\n",
              "      background-color: #E2EBFA;\n",
              "      box-shadow: 0px 1px 2px rgba(60, 64, 67, 0.3), 0px 1px 3px 1px rgba(60, 64, 67, 0.15);\n",
              "      fill: #174EA6;\n",
              "    }\n",
              "\n",
              "    [theme=dark] .colab-df-convert {\n",
              "      background-color: #3B4455;\n",
              "      fill: #D2E3FC;\n",
              "    }\n",
              "\n",
              "    [theme=dark] .colab-df-convert:hover {\n",
              "      background-color: #434B5C;\n",
              "      box-shadow: 0px 1px 3px 1px rgba(0, 0, 0, 0.15);\n",
              "      filter: drop-shadow(0px 1px 2px rgba(0, 0, 0, 0.3));\n",
              "      fill: #FFFFFF;\n",
              "    }\n",
              "  </style>\n",
              "\n",
              "      <script>\n",
              "        const buttonEl =\n",
              "          document.querySelector('#df-c9f5abdd-ae7f-4783-8c29-69b50536726b button.colab-df-convert');\n",
              "        buttonEl.style.display =\n",
              "          google.colab.kernel.accessAllowed ? 'block' : 'none';\n",
              "\n",
              "        async function convertToInteractive(key) {\n",
              "          const element = document.querySelector('#df-c9f5abdd-ae7f-4783-8c29-69b50536726b');\n",
              "          const dataTable =\n",
              "            await google.colab.kernel.invokeFunction('convertToInteractive',\n",
              "                                                     [key], {});\n",
              "          if (!dataTable) return;\n",
              "\n",
              "          const docLinkHtml = 'Like what you see? Visit the ' +\n",
              "            '<a target=\"_blank\" href=https://colab.research.google.com/notebooks/data_table.ipynb>data table notebook</a>'\n",
              "            + ' to learn more about interactive tables.';\n",
              "          element.innerHTML = '';\n",
              "          dataTable['output_type'] = 'display_data';\n",
              "          await google.colab.output.renderOutput(dataTable, element);\n",
              "          const docLink = document.createElement('div');\n",
              "          docLink.innerHTML = docLinkHtml;\n",
              "          element.appendChild(docLink);\n",
              "        }\n",
              "      </script>\n",
              "    </div>\n",
              "  </div>\n",
              "  "
            ]
          },
          "metadata": {},
          "execution_count": 12
        }
      ]
    },
    {
      "cell_type": "code",
      "source": [
        "combined.plot()\n",
        "#Hồi quy độ dốc là một kỹ thuật chính quy hóa bổ sung thời hạn phạt cho hàm mất mát, giúp\n",
        "#giảm tác động của các tính năng không liên quan và ngăn chặn quá mức.\n",
        "#Do chỉ lấy vài thông số để đo đạc dự đoán trong hơn 10 thông số từ data.\n",
        "#Hơn nữa, việc sử dụng regression cho việc dự đoán thời tiết là không hiệu quả nên model này không thật sự tốt cho bài toán này."
      ],
      "metadata": {
        "colab": {
          "base_uri": "https://localhost:8080/",
          "height": 447
        },
        "id": "wxo4vtVvbET3",
        "outputId": "268542f6-edbf-4a05-fb52-1762d274bae3"
      },
      "execution_count": 13,
      "outputs": [
        {
          "output_type": "execute_result",
          "data": {
            "text/plain": [
              "<Axes: >"
            ]
          },
          "metadata": {},
          "execution_count": 13
        },
        {
          "output_type": "display_data",
          "data": {
            "text/plain": [
              "<Figure size 640x480 with 1 Axes>"
            ],
            "image/png": "[encoded data removed]"
          },
          "metadata": {}
        }
      ]
    },
    {
      "cell_type": "code",
      "source": [
        "from sklearn.metrics import r2_score\n",
        "score = r2_score(combined[\"actual\"], combined[\"predictions\"])\n",
        "score\n",
        "#Điểm R-squared (R2) là thước đo thống kê được sử dụng để đánh giá hiệu suất của mô hình hồi quy.\n",
        "#Nó cung cấp một chỉ báo về mức độ phù hợp của mô hình hồi quy với dữ liệu được quan sát."
      ],
      "metadata": {
        "colab": {
          "base_uri": "https://localhost:8080/"
        },
        "id": "PHSTONW7dy1e",
        "outputId": "8f1b4252-e0e6-469a-fcfe-2f798d2976ff"
      },
      "execution_count": null,
      "outputs": [
        {
          "output_type": "execute_result",
          "data": {
            "text/plain": [
              "0.5353290446757472"
            ]
          },
          "metadata": {},
          "execution_count": 56
        }
      ]
    },
    {
      "cell_type": "code",
      "source": [],
      "metadata": {
        "id": "kGx1r-wgoP-n"
      },
      "execution_count": null,
      "outputs": []
    }
  ]
}